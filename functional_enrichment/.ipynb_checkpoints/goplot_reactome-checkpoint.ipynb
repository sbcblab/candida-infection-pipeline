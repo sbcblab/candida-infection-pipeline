{
 "cells": [
  {
   "cell_type": "code",
   "execution_count": 1,
   "id": "3aab6c04",
   "metadata": {
    "collapsed": true
   },
   "outputs": [
    {
     "name": "stderr",
     "output_type": "stream",
     "text": [
      "Carregando pacotes exigidos: ggplot2\n",
      "\n",
      "Carregando pacotes exigidos: ggdendro\n",
      "\n",
      "Carregando pacotes exigidos: gridExtra\n",
      "\n",
      "Carregando pacotes exigidos: RColorBrewer\n",
      "\n"
     ]
    }
   ],
   "source": [
    "library(GOplot)\n",
    "library(readr)"
   ]
  },
  {
   "cell_type": "code",
   "execution_count": 2,
   "id": "12808c9e",
   "metadata": {},
   "outputs": [],
   "source": [
    "dir = \"~/Documentos/Mestrado/candida_lungs/candida-infection-pipeline\""
   ]
  },
  {
   "cell_type": "code",
   "execution_count": 3,
   "id": "8d0d6285",
   "metadata": {
    "scrolled": true
   },
   "outputs": [],
   "source": [
    "rede = read.csv(file = paste0(dir, \"/results/MMxGS_expression.csv\"))\n",
    "reactome = read.csv(file = paste0(dir, \"/results/reactome_turquoise.tsv\"), sep = \"\\t\", quote = \"\")"
   ]
  },
  {
   "cell_type": "code",
   "execution_count": 4,
   "id": "602974ab",
   "metadata": {},
   "outputs": [],
   "source": [
    "rede$external_gene_name = toupper(rede$external_gene_name)\n",
    "\n",
    "gsub(\",\", \", \", reactome$GeneSet)"
   ]
  },
  {
   "cell_type": "code",
   "execution_count": 5,
   "id": "8b19f546",
   "metadata": {},
   "outputs": [],
   "source": [
    "ont_modulo = subset(reactome, reactome$Module == 7)"
   ]
  },
  {
   "cell_type": "code",
   "execution_count": 6,
   "id": "abc248df",
   "metadata": {},
   "outputs": [],
   "source": [
    "genes_temp = c(ont_modulo$Nodes)\n",
    "genes = list()\n",
    "\n",
    "for(x in genes_temp){\n",
    "    genes = append(genes, strsplit(x, \",\"))\n",
    "}\n",
    "\n",
    "genes = unlist(genes)\n",
    "genes = unique(genes)"
   ]
  },
  {
   "cell_type": "code",
   "execution_count": 13,
   "id": "aacf5cb7",
   "metadata": {},
   "outputs": [],
   "source": [
    "ontologia = data.frame(Category = rep(\"BP\", dim(ont_modulo)[1]),\n",
    "                       ID = ont_modulo$GeneSet,\n",
    "                       Term = ont_modulo$GeneSet,\n",
    "                       Genes = ont_modulo$Nodes,\n",
    "                       Pval = ont_modulo$P.value)"
   ]
  },
  {
   "cell_type": "code",
   "execution_count": 14,
   "id": "090f0618",
   "metadata": {},
   "outputs": [],
   "source": [
    "df = subset(rede, rede$external_gene_name %in% genes)\n",
    "expressao = data.frame(ID = df$external_gene_name, logFC = df$log2FoldChange, adj.P.Val = df$padj)"
   ]
  },
  {
   "cell_type": "code",
   "execution_count": 15,
   "id": "7d491734",
   "metadata": {},
   "outputs": [
    {
     "ename": "ERROR",
     "evalue": "Error in data.frame(category = rep(as.character(terms$category), count), : arguments imply differing number of rows: 134, 0\n",
     "output_type": "error",
     "traceback": [
      "Error in data.frame(category = rep(as.character(terms$category), count), : arguments imply differing number of rows: 134, 0\nTraceback:\n",
      "1. circle_dat(ontologia, expressao)",
      "2. data.frame(category = rep(as.character(terms$category), count), \n .     ID = rep(as.character(terms$id), count), term = rep(as.character(terms$term), \n .         count), count = rep(count, count), genes = as.character(unlist(tgenes)), \n .     logFC = logFC, adj_pval = rep(terms$adj_pval, count), zscore = rep(zsc, \n .         count), stringsAsFactors = FALSE)",
      "3. stop(gettextf(\"arguments imply differing number of rows: %s\", \n .     paste(unique(nrows), collapse = \", \")), domain = NA)"
     ]
    }
   ],
   "source": [
    "circ = circle_dat(ontologia, expressao)"
   ]
  },
  {
   "cell_type": "code",
   "execution_count": 16,
   "id": "0c2d5b7d",
   "metadata": {},
   "outputs": [],
   "source": [
    "?circle_dat"
   ]
  }
 ],
 "metadata": {
  "kernelspec": {
   "display_name": "R",
   "language": "R",
   "name": "ir"
  },
  "language_info": {
   "codemirror_mode": "r",
   "file_extension": ".r",
   "mimetype": "text/x-r-source",
   "name": "R",
   "pygments_lexer": "r",
   "version": "4.1.3"
  }
 },
 "nbformat": 4,
 "nbformat_minor": 5
}
